{
 "cells": [
  {
   "cell_type": "code",
   "execution_count": 1,
   "metadata": {
    "colab": {
     "base_uri": "https://localhost:8080/"
    },
    "id": "-GirQS7s-W_A",
    "outputId": "161421ee-0aab-4455-8c03-396a6057ee64"
   },
   "outputs": [
    {
     "name": "stdout",
     "output_type": "stream",
     "text": [
      "Requirement already satisfied: plotly in /opt/conda/lib/python3.11/site-packages (6.1.2)\n",
      "Requirement already satisfied: narwhals>=1.15.1 in /opt/conda/lib/python3.11/site-packages (from plotly) (1.42.1)\n",
      "Requirement already satisfied: packaging in /opt/conda/lib/python3.11/site-packages (from plotly) (23.2)\n"
     ]
    }
   ],
   "source": [
    "!pip install plotly"
   ]
  },
  {
   "cell_type": "markdown",
   "metadata": {
    "id": "UEwkIV-fScP-"
   },
   "source": [
    "# **Import Libraries**"
   ]
  },
  {
   "cell_type": "code",
   "execution_count": 2,
   "metadata": {
    "id": "9wXY04rJHQQa"
   },
   "outputs": [],
   "source": [
    "from pyspark.sql.functions import col, avg, sum,count,round,dayofweek, desc, when\n",
    "from pyspark.sql.types import IntegerType, FloatType\n",
    "from pyspark.sql.window import Window\n",
    "import plotly.express as px\n",
    "import seaborn as sns\n",
    "import pandas as pd\n",
    "import matplotlib.pyplot as plt"
   ]
  },
  {
   "cell_type": "markdown",
   "metadata": {
    "id": "8KkGN3Y_Sjgu"
   },
   "source": [
    "# **Init SparkSession**"
   ]
  },
  {
   "cell_type": "code",
   "execution_count": 3,
   "metadata": {
    "id": "kujGVdhy-asF"
   },
   "outputs": [],
   "source": [
    "from pyspark.sql import SparkSession\n",
    "spark = SparkSession.builder \\\n",
    "    .appName(\"Test HDFS\") \\\n",
    "    .getOrCreate()"
   ]
  },
  {
   "cell_type": "markdown",
   "metadata": {
    "id": "KsabUlCp_fpy"
   },
   "source": [
    "https://drive.google.com/file/d/1uzIrvqLTBSYrcB2XmJZD7bbdNjuAvFY_/view?usp=sharing\n"
   ]
  },
  {
   "cell_type": "markdown",
   "metadata": {
    "id": "64Uu4ClASq-W"
   },
   "source": [
    "# **Chargement CSV**"
   ]
  },
  {
   "cell_type": "code",
   "execution_count": 4,
   "metadata": {
    "colab": {
     "base_uri": "https://localhost:8080/",
     "height": 321
    },
    "id": "f_DP6lTB-guz",
    "outputId": "f829fc29-4415-4a38-dd4f-613403dc4933"
   },
   "outputs": [],
   "source": [
    "flights_bronze = spark.read.csv(\"hdfs://namenode:8020/user/data/flights.csv\", header=True, inferSchema=True)\n",
    "airlines_bronze = spark.read.csv(\"hdfs://namenode:8020/user/data/airlines.csv\", header=True, inferSchema=True)\n",
    "airports_bronze = spark.read.csv(\"hdfs://namenode:8020/user/data/airports.csv\", header=True, inferSchema=True)"
   ]
  },
  {
   "cell_type": "markdown",
   "metadata": {
    "id": "3w9LJ8HxS2-3"
   },
   "source": [
    "**Afficher 10 lignes**"
   ]
  },
  {
   "cell_type": "code",
   "execution_count": 6,
   "metadata": {
    "id": "WXcU4R1B_ewQ"
   },
   "outputs": [
    {
     "data": {
      "text/html": [
       "<div>\n",
       "<style scoped>\n",
       "    .dataframe tbody tr th:only-of-type {\n",
       "        vertical-align: middle;\n",
       "    }\n",
       "\n",
       "    .dataframe tbody tr th {\n",
       "        vertical-align: top;\n",
       "    }\n",
       "\n",
       "    .dataframe thead th {\n",
       "        text-align: right;\n",
       "    }\n",
       "</style>\n",
       "<table border=\"1\" class=\"dataframe\">\n",
       "  <thead>\n",
       "    <tr style=\"text-align: right;\">\n",
       "      <th></th>\n",
       "      <th>YEAR</th>\n",
       "      <th>MONTH</th>\n",
       "      <th>DAY</th>\n",
       "      <th>DAY_OF_WEEK</th>\n",
       "      <th>AIRLINE</th>\n",
       "      <th>FLIGHT_NUMBER</th>\n",
       "      <th>TAIL_NUMBER</th>\n",
       "      <th>ORIGIN_AIRPORT</th>\n",
       "      <th>DESTINATION_AIRPORT</th>\n",
       "      <th>SCHEDULED_DEPARTURE</th>\n",
       "      <th>...</th>\n",
       "      <th>ARRIVAL_TIME</th>\n",
       "      <th>ARRIVAL_DELAY</th>\n",
       "      <th>DIVERTED</th>\n",
       "      <th>CANCELLED</th>\n",
       "      <th>CANCELLATION_REASON</th>\n",
       "      <th>AIR_SYSTEM_DELAY</th>\n",
       "      <th>SECURITY_DELAY</th>\n",
       "      <th>AIRLINE_DELAY</th>\n",
       "      <th>LATE_AIRCRAFT_DELAY</th>\n",
       "      <th>WEATHER_DELAY</th>\n",
       "    </tr>\n",
       "  </thead>\n",
       "  <tbody>\n",
       "    <tr>\n",
       "      <th>0</th>\n",
       "      <td>2015</td>\n",
       "      <td>1</td>\n",
       "      <td>1</td>\n",
       "      <td>4</td>\n",
       "      <td>AS</td>\n",
       "      <td>98</td>\n",
       "      <td>N407AS</td>\n",
       "      <td>ANC</td>\n",
       "      <td>SEA</td>\n",
       "      <td>5</td>\n",
       "      <td>...</td>\n",
       "      <td>408</td>\n",
       "      <td>-22</td>\n",
       "      <td>0</td>\n",
       "      <td>0</td>\n",
       "      <td>None</td>\n",
       "      <td>NaN</td>\n",
       "      <td>NaN</td>\n",
       "      <td>NaN</td>\n",
       "      <td>NaN</td>\n",
       "      <td>NaN</td>\n",
       "    </tr>\n",
       "    <tr>\n",
       "      <th>1</th>\n",
       "      <td>2015</td>\n",
       "      <td>1</td>\n",
       "      <td>1</td>\n",
       "      <td>4</td>\n",
       "      <td>AA</td>\n",
       "      <td>2336</td>\n",
       "      <td>N3KUAA</td>\n",
       "      <td>LAX</td>\n",
       "      <td>PBI</td>\n",
       "      <td>10</td>\n",
       "      <td>...</td>\n",
       "      <td>741</td>\n",
       "      <td>-9</td>\n",
       "      <td>0</td>\n",
       "      <td>0</td>\n",
       "      <td>None</td>\n",
       "      <td>NaN</td>\n",
       "      <td>NaN</td>\n",
       "      <td>NaN</td>\n",
       "      <td>NaN</td>\n",
       "      <td>NaN</td>\n",
       "    </tr>\n",
       "    <tr>\n",
       "      <th>2</th>\n",
       "      <td>2015</td>\n",
       "      <td>1</td>\n",
       "      <td>1</td>\n",
       "      <td>4</td>\n",
       "      <td>US</td>\n",
       "      <td>840</td>\n",
       "      <td>N171US</td>\n",
       "      <td>SFO</td>\n",
       "      <td>CLT</td>\n",
       "      <td>20</td>\n",
       "      <td>...</td>\n",
       "      <td>811</td>\n",
       "      <td>5</td>\n",
       "      <td>0</td>\n",
       "      <td>0</td>\n",
       "      <td>None</td>\n",
       "      <td>NaN</td>\n",
       "      <td>NaN</td>\n",
       "      <td>NaN</td>\n",
       "      <td>NaN</td>\n",
       "      <td>NaN</td>\n",
       "    </tr>\n",
       "    <tr>\n",
       "      <th>3</th>\n",
       "      <td>2015</td>\n",
       "      <td>1</td>\n",
       "      <td>1</td>\n",
       "      <td>4</td>\n",
       "      <td>AA</td>\n",
       "      <td>258</td>\n",
       "      <td>N3HYAA</td>\n",
       "      <td>LAX</td>\n",
       "      <td>MIA</td>\n",
       "      <td>20</td>\n",
       "      <td>...</td>\n",
       "      <td>756</td>\n",
       "      <td>-9</td>\n",
       "      <td>0</td>\n",
       "      <td>0</td>\n",
       "      <td>None</td>\n",
       "      <td>NaN</td>\n",
       "      <td>NaN</td>\n",
       "      <td>NaN</td>\n",
       "      <td>NaN</td>\n",
       "      <td>NaN</td>\n",
       "    </tr>\n",
       "    <tr>\n",
       "      <th>4</th>\n",
       "      <td>2015</td>\n",
       "      <td>1</td>\n",
       "      <td>1</td>\n",
       "      <td>4</td>\n",
       "      <td>AS</td>\n",
       "      <td>135</td>\n",
       "      <td>N527AS</td>\n",
       "      <td>SEA</td>\n",
       "      <td>ANC</td>\n",
       "      <td>25</td>\n",
       "      <td>...</td>\n",
       "      <td>259</td>\n",
       "      <td>-21</td>\n",
       "      <td>0</td>\n",
       "      <td>0</td>\n",
       "      <td>None</td>\n",
       "      <td>NaN</td>\n",
       "      <td>NaN</td>\n",
       "      <td>NaN</td>\n",
       "      <td>NaN</td>\n",
       "      <td>NaN</td>\n",
       "    </tr>\n",
       "    <tr>\n",
       "      <th>5</th>\n",
       "      <td>2015</td>\n",
       "      <td>1</td>\n",
       "      <td>1</td>\n",
       "      <td>4</td>\n",
       "      <td>DL</td>\n",
       "      <td>806</td>\n",
       "      <td>N3730B</td>\n",
       "      <td>SFO</td>\n",
       "      <td>MSP</td>\n",
       "      <td>25</td>\n",
       "      <td>...</td>\n",
       "      <td>610</td>\n",
       "      <td>8</td>\n",
       "      <td>0</td>\n",
       "      <td>0</td>\n",
       "      <td>None</td>\n",
       "      <td>NaN</td>\n",
       "      <td>NaN</td>\n",
       "      <td>NaN</td>\n",
       "      <td>NaN</td>\n",
       "      <td>NaN</td>\n",
       "    </tr>\n",
       "    <tr>\n",
       "      <th>6</th>\n",
       "      <td>2015</td>\n",
       "      <td>1</td>\n",
       "      <td>1</td>\n",
       "      <td>4</td>\n",
       "      <td>NK</td>\n",
       "      <td>612</td>\n",
       "      <td>N635NK</td>\n",
       "      <td>LAS</td>\n",
       "      <td>MSP</td>\n",
       "      <td>25</td>\n",
       "      <td>...</td>\n",
       "      <td>509</td>\n",
       "      <td>-17</td>\n",
       "      <td>0</td>\n",
       "      <td>0</td>\n",
       "      <td>None</td>\n",
       "      <td>NaN</td>\n",
       "      <td>NaN</td>\n",
       "      <td>NaN</td>\n",
       "      <td>NaN</td>\n",
       "      <td>NaN</td>\n",
       "    </tr>\n",
       "    <tr>\n",
       "      <th>7</th>\n",
       "      <td>2015</td>\n",
       "      <td>1</td>\n",
       "      <td>1</td>\n",
       "      <td>4</td>\n",
       "      <td>US</td>\n",
       "      <td>2013</td>\n",
       "      <td>N584UW</td>\n",
       "      <td>LAX</td>\n",
       "      <td>CLT</td>\n",
       "      <td>30</td>\n",
       "      <td>...</td>\n",
       "      <td>753</td>\n",
       "      <td>-10</td>\n",
       "      <td>0</td>\n",
       "      <td>0</td>\n",
       "      <td>None</td>\n",
       "      <td>NaN</td>\n",
       "      <td>NaN</td>\n",
       "      <td>NaN</td>\n",
       "      <td>NaN</td>\n",
       "      <td>NaN</td>\n",
       "    </tr>\n",
       "    <tr>\n",
       "      <th>8</th>\n",
       "      <td>2015</td>\n",
       "      <td>1</td>\n",
       "      <td>1</td>\n",
       "      <td>4</td>\n",
       "      <td>AA</td>\n",
       "      <td>1112</td>\n",
       "      <td>N3LAAA</td>\n",
       "      <td>SFO</td>\n",
       "      <td>DFW</td>\n",
       "      <td>30</td>\n",
       "      <td>...</td>\n",
       "      <td>532</td>\n",
       "      <td>-13</td>\n",
       "      <td>0</td>\n",
       "      <td>0</td>\n",
       "      <td>None</td>\n",
       "      <td>NaN</td>\n",
       "      <td>NaN</td>\n",
       "      <td>NaN</td>\n",
       "      <td>NaN</td>\n",
       "      <td>NaN</td>\n",
       "    </tr>\n",
       "    <tr>\n",
       "      <th>9</th>\n",
       "      <td>2015</td>\n",
       "      <td>1</td>\n",
       "      <td>1</td>\n",
       "      <td>4</td>\n",
       "      <td>DL</td>\n",
       "      <td>1173</td>\n",
       "      <td>N826DN</td>\n",
       "      <td>LAS</td>\n",
       "      <td>ATL</td>\n",
       "      <td>30</td>\n",
       "      <td>...</td>\n",
       "      <td>656</td>\n",
       "      <td>-15</td>\n",
       "      <td>0</td>\n",
       "      <td>0</td>\n",
       "      <td>None</td>\n",
       "      <td>NaN</td>\n",
       "      <td>NaN</td>\n",
       "      <td>NaN</td>\n",
       "      <td>NaN</td>\n",
       "      <td>NaN</td>\n",
       "    </tr>\n",
       "  </tbody>\n",
       "</table>\n",
       "<p>10 rows × 31 columns</p>\n",
       "</div>"
      ],
      "text/plain": [
       "   YEAR  MONTH  DAY  DAY_OF_WEEK AIRLINE  FLIGHT_NUMBER TAIL_NUMBER  \\\n",
       "0  2015      1    1            4      AS             98      N407AS   \n",
       "1  2015      1    1            4      AA           2336      N3KUAA   \n",
       "2  2015      1    1            4      US            840      N171US   \n",
       "3  2015      1    1            4      AA            258      N3HYAA   \n",
       "4  2015      1    1            4      AS            135      N527AS   \n",
       "5  2015      1    1            4      DL            806      N3730B   \n",
       "6  2015      1    1            4      NK            612      N635NK   \n",
       "7  2015      1    1            4      US           2013      N584UW   \n",
       "8  2015      1    1            4      AA           1112      N3LAAA   \n",
       "9  2015      1    1            4      DL           1173      N826DN   \n",
       "\n",
       "  ORIGIN_AIRPORT DESTINATION_AIRPORT  SCHEDULED_DEPARTURE  ...  ARRIVAL_TIME  \\\n",
       "0            ANC                 SEA                    5  ...           408   \n",
       "1            LAX                 PBI                   10  ...           741   \n",
       "2            SFO                 CLT                   20  ...           811   \n",
       "3            LAX                 MIA                   20  ...           756   \n",
       "4            SEA                 ANC                   25  ...           259   \n",
       "5            SFO                 MSP                   25  ...           610   \n",
       "6            LAS                 MSP                   25  ...           509   \n",
       "7            LAX                 CLT                   30  ...           753   \n",
       "8            SFO                 DFW                   30  ...           532   \n",
       "9            LAS                 ATL                   30  ...           656   \n",
       "\n",
       "   ARRIVAL_DELAY  DIVERTED  CANCELLED  CANCELLATION_REASON  AIR_SYSTEM_DELAY  \\\n",
       "0            -22         0          0                 None               NaN   \n",
       "1             -9         0          0                 None               NaN   \n",
       "2              5         0          0                 None               NaN   \n",
       "3             -9         0          0                 None               NaN   \n",
       "4            -21         0          0                 None               NaN   \n",
       "5              8         0          0                 None               NaN   \n",
       "6            -17         0          0                 None               NaN   \n",
       "7            -10         0          0                 None               NaN   \n",
       "8            -13         0          0                 None               NaN   \n",
       "9            -15         0          0                 None               NaN   \n",
       "\n",
       "   SECURITY_DELAY  AIRLINE_DELAY  LATE_AIRCRAFT_DELAY  WEATHER_DELAY  \n",
       "0             NaN            NaN                  NaN            NaN  \n",
       "1             NaN            NaN                  NaN            NaN  \n",
       "2             NaN            NaN                  NaN            NaN  \n",
       "3             NaN            NaN                  NaN            NaN  \n",
       "4             NaN            NaN                  NaN            NaN  \n",
       "5             NaN            NaN                  NaN            NaN  \n",
       "6             NaN            NaN                  NaN            NaN  \n",
       "7             NaN            NaN                  NaN            NaN  \n",
       "8             NaN            NaN                  NaN            NaN  \n",
       "9             NaN            NaN                  NaN            NaN  \n",
       "\n",
       "[10 rows x 31 columns]"
      ]
     },
     "execution_count": 6,
     "metadata": {},
     "output_type": "execute_result"
    }
   ],
   "source": [
    "   flights_bronze.limit(10).toPandas()"
   ]
  },
  {
   "cell_type": "markdown",
   "metadata": {
    "id": "tjMnHo3YCT_D"
   },
   "source": [
    "# Data Prep\n"
   ]
  },
  {
   "cell_type": "markdown",
   "metadata": {
    "id": "6u_On8B5S-Kd"
   },
   "source": [
    "**Casting et nettoyage**\n"
   ]
  },
  {
   "cell_type": "code",
   "execution_count": 7,
   "metadata": {
    "id": "7pGTEqKdCbPt"
   },
   "outputs": [
    {
     "ename": "NameError",
     "evalue": "name 'flights_df' is not defined",
     "output_type": "error",
     "traceback": [
      "\u001b[0;31m---------------------------------------------------------------------------\u001b[0m",
      "\u001b[0;31mNameError\u001b[0m                                 Traceback (most recent call last)",
      "Cell \u001b[0;32mIn[7], line 9\u001b[0m\n\u001b[1;32m      1\u001b[0m \u001b[38;5;66;03m# flights\u001b[39;00m\n\u001b[1;32m      2\u001b[0m cols_to_cast \u001b[38;5;241m=\u001b[39m [\n\u001b[1;32m      3\u001b[0m     \u001b[38;5;124m\"\u001b[39m\u001b[38;5;124mDEPARTURE_DELAY\u001b[39m\u001b[38;5;124m\"\u001b[39m, \u001b[38;5;124m\"\u001b[39m\u001b[38;5;124mTAXI_OUT\u001b[39m\u001b[38;5;124m\"\u001b[39m, \u001b[38;5;124m\"\u001b[39m\u001b[38;5;124mELAPSED_TIME\u001b[39m\u001b[38;5;124m\"\u001b[39m, \u001b[38;5;124m\"\u001b[39m\u001b[38;5;124mAIR_TIME\u001b[39m\u001b[38;5;124m\"\u001b[39m,\n\u001b[1;32m      4\u001b[0m     \u001b[38;5;124m\"\u001b[39m\u001b[38;5;124mDISTANCE\u001b[39m\u001b[38;5;124m\"\u001b[39m, \u001b[38;5;124m\"\u001b[39m\u001b[38;5;124mTAXI_IN\u001b[39m\u001b[38;5;124m\"\u001b[39m, \u001b[38;5;124m\"\u001b[39m\u001b[38;5;124mARRIVAL_DELAY\u001b[39m\u001b[38;5;124m\"\u001b[39m,\n\u001b[1;32m      5\u001b[0m     \u001b[38;5;124m\"\u001b[39m\u001b[38;5;124mAIR_SYSTEM_DELAY\u001b[39m\u001b[38;5;124m\"\u001b[39m, \u001b[38;5;124m\"\u001b[39m\u001b[38;5;124mSECURITY_DELAY\u001b[39m\u001b[38;5;124m\"\u001b[39m, \u001b[38;5;124m\"\u001b[39m\u001b[38;5;124mAIRLINE_DELAY\u001b[39m\u001b[38;5;124m\"\u001b[39m,\n\u001b[1;32m      6\u001b[0m     \u001b[38;5;124m\"\u001b[39m\u001b[38;5;124mLATE_AIRCRAFT_DELAY\u001b[39m\u001b[38;5;124m\"\u001b[39m, \u001b[38;5;124m\"\u001b[39m\u001b[38;5;124mWEATHER_DELAY\u001b[39m\u001b[38;5;124m\"\u001b[39m\n\u001b[1;32m      7\u001b[0m ]\n\u001b[0;32m----> 9\u001b[0m flights_df \u001b[38;5;241m=\u001b[39m \u001b[43mflights_df\u001b[49m\u001b[38;5;241m.\u001b[39mselect(\u001b[38;5;241m*\u001b[39m[\n\u001b[1;32m     10\u001b[0m     col(c)\u001b[38;5;241m.\u001b[39mcast(IntegerType()) \u001b[38;5;28;01mif\u001b[39;00m c \u001b[38;5;129;01min\u001b[39;00m cols_to_cast \u001b[38;5;28;01melse\u001b[39;00m col(c)\n\u001b[1;32m     11\u001b[0m     \u001b[38;5;28;01mfor\u001b[39;00m c \u001b[38;5;129;01min\u001b[39;00m flights_df\u001b[38;5;241m.\u001b[39mcolumns\n\u001b[1;32m     12\u001b[0m ])\n\u001b[1;32m     15\u001b[0m \u001b[38;5;66;03m#airports\u001b[39;00m\n\u001b[1;32m     16\u001b[0m cols_to_cast_airports \u001b[38;5;241m=\u001b[39m [\u001b[38;5;124m\"\u001b[39m\u001b[38;5;124mLATITUDE\u001b[39m\u001b[38;5;124m\"\u001b[39m, \u001b[38;5;124m\"\u001b[39m\u001b[38;5;124mLONGITUDE\u001b[39m\u001b[38;5;124m\"\u001b[39m]\n",
      "\u001b[0;31mNameError\u001b[0m: name 'flights_df' is not defined"
     ]
    }
   ],
   "source": [
    "# flights\n",
    "cols_to_cast = [\n",
    "    \"DEPARTURE_DELAY\", \"TAXI_OUT\", \"ELAPSED_TIME\", \"AIR_TIME\",\n",
    "    \"DISTANCE\", \"TAXI_IN\", \"ARRIVAL_DELAY\",\n",
    "    \"AIR_SYSTEM_DELAY\", \"SECURITY_DELAY\", \"AIRLINE_DELAY\",\n",
    "    \"LATE_AIRCRAFT_DELAY\", \"WEATHER_DELAY\"\n",
    "]\n",
    "\n",
    "flights_df = flights_bronze.select(*[\n",
    "    col(c).cast(IntegerType()) if c in cols_to_cast else col(c)\n",
    "    for c in flights_df.columns\n",
    "])\n",
    "\n",
    "\n",
    "#airports\n",
    "cols_to_cast_airports = [\"LATITUDE\", \"LONGITUDE\"]\n",
    "airports_df = airlines_bronze.select(*[\n",
    "    col(c).cast(FloatType()) if c in cols_to_cast_airports else col(c)\n",
    "    for c in airports_df.columns\n",
    "]).dropna(subset=[\"IATA_CODE\"]).dropDuplicates([\"IATA_CODE\"])\n",
    "\n",
    "#Suppression Douplon Airlines\n",
    "airlines_df = airlines_df.dropna(subset=[\"IATA_CODE\", \"AIRLINE\"]).dropDuplicates([\"IATA_CODE\"])"
   ]
  },
  {
   "cell_type": "markdown",
   "metadata": {
    "id": "kxabw9F0IJj-"
   },
   "source": [
    "# Analytics"
   ]
  },
  {
   "cell_type": "markdown",
   "metadata": {
    "id": "6l844_QkYDh9"
   },
   "source": [
    "**Retards moyens par compagnie**"
   ]
  },
  {
   "cell_type": "code",
   "execution_count": null,
   "metadata": {
    "id": "g7mDFuPkJ1cz"
   },
   "outputs": [],
   "source": [
    "from pyspark.sql.functions import avg\n",
    "\n",
    "avg_delay_by_airline = flights_df.groupBy(\"AIRLINE\").agg(\n",
    "    round(avg(\"DEPARTURE_DELAY\"), 2).alias(\"AVG_DEPARTURE_DELAY\"),\n",
    "    round(avg(\"ARRIVAL_DELAY\"), 2).alias(\"AVG_ARRIVAL_DELAY\")\n",
    ")\n",
    "avg_df = avg_delay_by_airline.alias(\"avg\")\n",
    "airlines_df_alias = airlines_df.alias(\"air\")\n",
    "\n",
    "joined_df = avg_df.join(\n",
    "    airlines_df_alias,\n",
    "    avg_df[\"AIRLINE\"] == airlines_df_alias[\"IATA_CODE\"],\n",
    "    \"left\"\n",
    ")\n",
    "\n",
    "result_df = joined_df.select(\n",
    "    avg_df[\"AIRLINE\"].alias(\"AIRLINE_CODE\"),\n",
    "    airlines_df_alias[\"AIRLINE\"].alias(\"AIRLINE_NAME\"),\n",
    "    avg_df[\"AVG_DEPARTURE_DELAY\"],\n",
    "    avg_df[\"AVG_ARRIVAL_DELAY\"]\n",
    ").orderBy(\"AVG_ARRIVAL_DELAY\", ascending=False)\n",
    "\n",
    "\n",
    "result_df.show(30)\n"
   ]
  },
  {
   "cell_type": "markdown",
   "metadata": {
    "id": "c-WMS9RzYNXG"
   },
   "source": [
    "**Graphique retards à l’arrivée**"
   ]
  },
  {
   "cell_type": "code",
   "execution_count": null,
   "metadata": {
    "id": "V9_IAxBWLNgY"
   },
   "outputs": [],
   "source": [
    "pdf = result_df.toPandas()\n",
    "\n",
    "fig = px.bar(\n",
    "    pdf,\n",
    "    x='AIRLINE_NAME',\n",
    "    y='AVG_ARRIVAL_DELAY',\n",
    "    labels={'AIRLINE_NAME': 'Compagnie aérienne', 'AVG_ARRIVAL_DELAY': 'Retard moyen à l\\'arrivée (minutes)'},\n",
    "    title='Retard moyen à l\\'arrivée par compagnie aérienne',\n",
    "    text=pdf['AVG_ARRIVAL_DELAY'].round(2)\n",
    ")\n",
    "\n",
    "fig.update_traces(textposition='outside')\n",
    "fig.update_layout(xaxis_tickangle=-45, yaxis=dict(title='Retard moyen (min)'), uniformtext_minsize=8)\n",
    "fig.show()"
   ]
  },
  {
   "cell_type": "markdown",
   "metadata": {
    "id": "MQyTlulIYVtA"
   },
   "source": [
    "**Graphique retards au départ**"
   ]
  },
  {
   "cell_type": "code",
   "execution_count": null,
   "metadata": {
    "id": "jPBO9WlAcQTn"
   },
   "outputs": [],
   "source": [
    "pdf = result_df.toPandas()\n",
    "\n",
    "fig = px.bar(\n",
    "    pdf,\n",
    "    x='AIRLINE_NAME',\n",
    "    y='AVG_DEPARTURE_DELAY',\n",
    "    labels={'AIRLINE_NAME': 'Compagnie aérienne', 'AVG_DEPARTURE_DELAY': 'Retard moyen à l\\'arrivée (minutes)'},\n",
    "    title='Retard moyen au départ par compagnie aérienne',\n",
    "    text=pdf['AVG_DEPARTURE_DELAY'].round(2)\n",
    ")\n",
    "\n",
    "fig.update_traces(textposition='outside')\n",
    "fig.update_layout(xaxis_tickangle=-45, yaxis=dict(title='Retard moyen (min)'), uniformtext_minsize=8)\n",
    "fig.show()"
   ]
  },
  {
   "cell_type": "markdown",
   "metadata": {
    "id": "R7KDspKEYs68"
   },
   "source": [
    "**Nombre de vols en retard par compagnie**\n"
   ]
  },
  {
   "cell_type": "code",
   "execution_count": null,
   "metadata": {
    "id": "zjNlQLebrV09"
   },
   "outputs": [],
   "source": [
    "delay_count_by_airline = flights_df.filter(col(\"ARRIVAL_DELAY\") > 0) \\\n",
    "    .groupBy(\"AIRLINE\") \\\n",
    "    .agg(sum((col(\"ARRIVAL_DELAY\") > 0).cast(\"int\")).alias(\"DELAYED_COUNT\"))\n",
    "\n",
    "delay_df = delay_count_by_airline.alias(\"delay\")\n",
    "airlines_df_alias = airlines_df.alias(\"air\")\n",
    "\n",
    "joined_delay_df = delay_df.join(\n",
    "    airlines_df_alias,\n",
    "    delay_df[\"AIRLINE\"] == airlines_df_alias[\"IATA_CODE\"],\n",
    "    \"left\"\n",
    ")\n",
    "\n",
    "final_delay_df = joined_delay_df.select(\n",
    "    delay_df[\"AIRLINE\"].alias(\"AIRLINE_CODE\"),\n",
    "    airlines_df_alias[\"AIRLINE\"].alias(\"AIRLINE_NAME\"),\n",
    "    delay_df[\"DELAYED_COUNT\"]\n",
    ").orderBy(\"DELAYED_COUNT\", ascending=False)\n"
   ]
  },
  {
   "cell_type": "markdown",
   "metadata": {
    "id": "PmbwxJEwr_xR"
   },
   "source": [
    "**Barres horizontales retards**"
   ]
  },
  {
   "cell_type": "code",
   "execution_count": null,
   "metadata": {
    "id": "MwEUsHVOrwSP"
   },
   "outputs": [],
   "source": [
    "plot_df = final_delay_df.toPandas()\n",
    "\n",
    "fig = px.bar(\n",
    "    plot_df,\n",
    "    x=\"DELAYED_COUNT\",\n",
    "    y=\"AIRLINE_NAME\",\n",
    "    orientation=\"h\",\n",
    "    title=\"Nombre de vols en retard par compagnie\",\n",
    "    labels={\"AIRLINE_NAME\": \"Compagnie\", \"DELAYED_COUNT\": \"Nombre de retards\"}\n",
    ")\n",
    "\n",
    "fig.show()\n"
   ]
  },
  {
   "cell_type": "markdown",
   "metadata": {
    "id": "raNWBuvRsrWE"
   },
   "source": [
    "**Nombre de vols déviés par compagnie**"
   ]
  },
  {
   "cell_type": "code",
   "execution_count": null,
   "metadata": {
    "id": "ZsygiOEVscAG"
   },
   "outputs": [],
   "source": [
    "from pyspark.sql.functions import col, sum as _sum\n",
    "\n",
    "diverted_count_df = flights_df.filter(col(\"DIVERTED\") == 1) \\\n",
    "    .groupBy(\"AIRLINE\") \\\n",
    "    .agg(_sum((col(\"DIVERTED\") == 1).cast(\"int\")).alias(\"DIVERTED_COUNT\"))\n",
    "\n",
    "div_df = diverted_count_df.alias(\"div\")\n",
    "airlines_df_alias = airlines_df.alias(\"air\")\n",
    "\n",
    "joined_diverted_df = div_df.join(\n",
    "    airlines_df_alias,\n",
    "    div_df[\"AIRLINE\"] == airlines_df_alias[\"IATA_CODE\"],\n",
    "    \"left\"\n",
    ")\n",
    "\n",
    "final_diverted_df = joined_diverted_df.select(\n",
    "    div_df[\"AIRLINE\"].alias(\"AIRLINE_CODE\"),\n",
    "    airlines_df_alias[\"AIRLINE\"].alias(\"AIRLINE_NAME\"),\n",
    "    div_df[\"DIVERTED_COUNT\"]\n",
    ").orderBy(\"DIVERTED_COUNT\", ascending=False)\n"
   ]
  },
  {
   "cell_type": "markdown",
   "metadata": {
    "id": "o6OTRsZ3dXvD"
   },
   "source": [
    "**Barres horizontales vols déroutés**"
   ]
  },
  {
   "cell_type": "code",
   "execution_count": null,
   "metadata": {
    "id": "fDyvv9BgseoK"
   },
   "outputs": [],
   "source": [
    "plot_df = final_diverted_df.toPandas()\n",
    "\n",
    "fig = px.bar(\n",
    "    plot_df,\n",
    "    x=\"DIVERTED_COUNT\",\n",
    "    y=\"AIRLINE_NAME\",\n",
    "    orientation=\"h\",\n",
    "    title=\"Nombre de vols déroutés par compagnie\",\n",
    "    labels={\"AIRLINE_NAME\": \"Compagnie\", \"DIVERTED_COUNT\": \"Nombre de déroutements\"}\n",
    ")\n",
    "\n",
    "fig.show()\n"
   ]
  },
  {
   "cell_type": "markdown",
   "metadata": {
    "id": "d_LcUbxwdb-H"
   },
   "source": [
    "**Retard moyen arrivée par compagnie**"
   ]
  },
  {
   "cell_type": "code",
   "execution_count": null,
   "metadata": {
    "id": "B2ANKHw4BW7W"
   },
   "outputs": [],
   "source": [
    "avg_delay_df = flights_df.groupBy(\"AIRLINE\") \\\n",
    "    .agg(avg(\"ARRIVAL_DELAY\").alias(\"avg_arrival_delay\"))\n",
    "\n",
    "avg_delay_pd = avg_delay_df.toPandas()\n",
    "\n",
    "fig = px.bar(\n",
    "    avg_delay_pd.sort_values(by=\"avg_arrival_delay\", ascending=False),\n",
    "    x=\"AIRLINE\",\n",
    "    y=\"avg_arrival_delay\",\n",
    "    title=\"Retard moyen à l'arrivée par compagnie\",\n",
    "    labels={\"avg_arrival_delay\": \"Retard moyen (min)\", \"AIRLINE\": \"Compagnie\"}\n",
    ")\n",
    "fig.show()"
   ]
  },
  {
   "cell_type": "markdown",
   "metadata": {
    "id": "qtji5rgodkIR"
   },
   "source": [
    "**Retard moyen par jour de semaine**"
   ]
  },
  {
   "cell_type": "code",
   "execution_count": null,
   "metadata": {
    "id": "n0haLjuWEEQe"
   },
   "outputs": [],
   "source": [
    "df_delay_day = flights_df.groupBy(\"DAY_OF_WEEK\") \\\n",
    "    .agg(avg(\"ARRIVAL_DELAY\").alias(\"avg_arrival_delay\")) \\\n",
    "    .toPandas()\n",
    "\n",
    "fig = px.bar(df_delay_day.sort_values(\"DAY_OF_WEEK\"),\n",
    "             x=\"DAY_OF_WEEK\", y=\"avg_arrival_delay\",\n",
    "             title=\"Retard moyen à l'arrivé par jour de la semaine\")\n",
    "fig.show()"
   ]
  },
  {
   "cell_type": "markdown",
   "metadata": {
    "id": "guuB4wkndnXT"
   },
   "source": [
    "**Retard moyen départ par aéroport**"
   ]
  },
  {
   "cell_type": "code",
   "execution_count": null,
   "metadata": {
    "id": "ohTeyxaFthcL"
   },
   "outputs": [],
   "source": [
    "from pyspark.sql.functions import avg, round\n",
    "\n",
    "# Moyenne des retards au départ par aéroport\n",
    "avg_delay_origin = flights_df.groupBy(\"ORIGIN_AIRPORT\").agg(\n",
    "    round(avg(\"DEPARTURE_DELAY\"), 2).alias(\"AVG_DEP_DELAY\")\n",
    ")\n",
    "\n",
    "# Joins\n",
    "avg_df = avg_delay_origin.alias(\"avg\")\n",
    "airports_df_alias = airports_df.alias(\"air\")\n",
    "\n",
    "# Join sur IATA\n",
    "joined_df = avg_df.join(\n",
    "    airports_df_alias,\n",
    "    avg_df[\"ORIGIN_AIRPORT\"] == airports_df_alias[\"IATA_CODE\"],\n",
    "    \"left\"\n",
    ")\n",
    "final_df = joined_df.select(\n",
    "    avg_df[\"ORIGIN_AIRPORT\"],\n",
    "    airports_df_alias[\"AIRPORT\"].alias(\"AIRPORT_NAME\"),\n",
    "    avg_df[\"AVG_DEP_DELAY\"]\n",
    ").orderBy(\"AVG_DEP_DELAY\", ascending=False)\n"
   ]
  },
  {
   "cell_type": "markdown",
   "metadata": {
    "id": "afWG3wChdsY6"
   },
   "source": [
    "**Top 10 aéroports retards départ**"
   ]
  },
  {
   "cell_type": "code",
   "execution_count": null,
   "metadata": {
    "id": "AdUHyTCPW2JH"
   },
   "outputs": [],
   "source": [
    "# Top 10\n",
    "top_10_df = final_df.orderBy(col(\"AVG_DEP_DELAY\").desc()).limit(17)\n",
    "\n",
    "# Pandas -> Plotly\n",
    "plot_df = top_10_df.toPandas()\n",
    "\n",
    "# Graphique\n",
    "import plotly.express as px\n",
    "\n",
    "fig = px.bar(\n",
    "    plot_df,\n",
    "    x=\"AIRPORT_NAME\",\n",
    "    y=\"AVG_DEP_DELAY\",\n",
    "    title=\"Les 10 aéroports avec le plus de retards au départ\",\n",
    "    labels={\"AIRPORT_NAME\": \"Aéroport\", \"AVG_DEP_DELAY\": \"Retard moyen (min)\"},\n",
    "    text=\"AVG_DEP_DELAY\"\n",
    ")\n",
    "fig.update_traces(texttemplate='%{text:.1f} min', textposition='outside')\n",
    "fig.update_layout(xaxis_tickangle=-45)\n",
    "\n",
    "fig.show()\n"
   ]
  },
  {
   "cell_type": "markdown",
   "metadata": {
    "id": "BFJP9IvKd6Ea"
   },
   "source": [
    "**Taux annulation par compagnie**"
   ]
  },
  {
   "cell_type": "code",
   "execution_count": null,
   "metadata": {
    "id": "WeySPrHTGtlP"
   },
   "outputs": [],
   "source": [
    "cancel_rate = flights_df.groupBy(\"AIRLINE\").agg(\n",
    "    ((sum(\"CANCELLED\") / count(\"*\")) * 100).alias(\"cancel_rate\")\n",
    ")\n",
    "\n",
    "plot4 = cancel_rate.toPandas()\n",
    "\n",
    "fig4 = px.bar(\n",
    "    plot4.sort_values(\"cancel_rate\", ascending=False),\n",
    "    x=\"AIRLINE\", y=\"cancel_rate\",\n",
    "    title=\"Taux d’annulation par compagnie \",\n",
    "    labels={\"AIRLINE\": \"Compagnie\", \"cancel_rate\": \"Taux d’annulation en %\"}\n",
    ")\n",
    "fig4.show()"
   ]
  },
  {
   "cell_type": "markdown",
   "metadata": {
    "id": "4PW9vOP8d_U7"
   },
   "source": [
    "**Retard moyen par compagnie et jour**"
   ]
  },
  {
   "cell_type": "code",
   "execution_count": null,
   "metadata": {
    "id": "jrKDoyFTJmH7"
   },
   "outputs": [],
   "source": [
    "delay_grouped = flights_df.groupBy(\"AIRLINE\", \"DAY_OF_WEEK\") \\\n",
    "    .agg(avg(\"ARRIVAL_DELAY\").alias(\"avg_arrival_delay\")) \\\n",
    "    .toPandas()\n",
    "\n",
    "\n",
    "fig = px.bar(\n",
    "    delay_grouped,\n",
    "    x=\"AIRLINE\",\n",
    "    y=\"avg_arrival_delay\",\n",
    "    color=\"DAY_OF_WEEK\",\n",
    "    barmode=\"group\",\n",
    "    title=\"Retard moyen à l’arrivée par compagine et par jour de la semaine\",\n",
    "    labels={\n",
    "        \"AIRLINE\": \"Aéroport d'origine\",\n",
    "        \"avg_arrival_delay\": \"Retard moyen (min)\",\n",
    "        \"DAY_OF_WEEK\": \"Jour de la semaine\"\n",
    "    },\n",
    "    color_discrete_sequence=px.colors.qualitative.Set2\n",
    ")\n",
    "\n",
    "fig.update_layout(xaxis_tickangle=-45)\n",
    "fig.show()"
   ]
  },
  {
   "cell_type": "markdown",
   "metadata": {
    "id": "29zcGazeMPwx"
   },
   "source": [
    "**Somme retards par cause**"
   ]
  },
  {
   "cell_type": "code",
   "execution_count": null,
   "metadata": {
    "id": "Muv1ZkyQMRYp"
   },
   "outputs": [],
   "source": [
    "delay_by_cause = (\n",
    "    flights_df\n",
    "    .select([sum(c).alias(c) for c in [\n",
    "        'AIR_SYSTEM_DELAY',\n",
    "        'SECURITY_DELAY',\n",
    "        'AIRLINE_DELAY',\n",
    "        'LATE_AIRCRAFT_DELAY',\n",
    "        'WEATHER_DELAY'\n",
    "    ]])\n",
    ")\n",
    "\n",
    "delay_by_cause.show()"
   ]
  },
  {
   "cell_type": "markdown",
   "metadata": {
    "id": "CC7JXUyHfMsN"
   },
   "source": [
    "**Taux vols retardés**"
   ]
  },
  {
   "cell_type": "code",
   "execution_count": null,
   "metadata": {
    "id": "8CDZNfOSxo8h"
   },
   "outputs": [],
   "source": [
    "# Récupère le DF\n",
    "delays = delay_by_cause.collect()[0].asDict()\n",
    "\n",
    "cause_names = list(delays.keys())\n",
    "minutes = list(delays.values())\n",
    "pdf = pd.DataFrame({'cause': cause_names, 'minutes': minutes})\n",
    "\n",
    "import plotly.express as px\n",
    "fig = px.bar(pdf, x='cause', y='minutes',\n",
    "             title=\"Total de minutes de retard par cause\")\n",
    "fig.show()\n"
   ]
  },
  {
   "cell_type": "markdown",
   "metadata": {
    "id": "Yl4zeFYpfRMb"
   },
   "source": [
    "**Moyenne retard arrivée par compagnie**"
   ]
  },
  {
   "cell_type": "code",
   "execution_count": null,
   "metadata": {
    "id": "Aw3w89MCOHfh"
   },
   "outputs": [],
   "source": [
    "avg_delay_airline = (\n",
    "    flights_df\n",
    "    .groupBy('AIRLINE')\n",
    "    .agg(\n",
    "        avg('ARRIVAL_DELAY').alias('avg_arr_delay'),\n",
    "        count('*').alias('n_flights')\n",
    "    )\n",
    "    .orderBy(desc('avg_arr_delay'))\n",
    ")\n",
    "\n",
    "avg_delay_airline.show(10)\n"
   ]
  },
  {
   "cell_type": "markdown",
   "metadata": {
    "id": "kLcQti-lyH-i"
   },
   "source": [
    "Viz - Barre Horizontal"
   ]
  },
  {
   "cell_type": "code",
   "execution_count": null,
   "metadata": {
    "id": "JCj-wDh5yJsl"
   },
   "outputs": [],
   "source": [
    "# ->  pandas\n",
    "pdf_airline = avg_delay_airline.toPandas()\n",
    "\n",
    "# Visualisation\n",
    "fig = px.bar(\n",
    "    pdf_airline,\n",
    "    x=\"avg_arr_delay\",\n",
    "    y=\"AIRLINE\",\n",
    "    orientation='h',\n",
    "    color=\"avg_arr_delay\",\n",
    "    color_continuous_scale=\"Reds\",\n",
    "    title=\"Retard moyen à l’arrivée par compagnie\",\n",
    "    labels={\"avg_arr_delay\": \"Retard moyen (min)\", \"AIRLINE\": \"Compagnie\"},\n",
    "    text=pdf_airline[\"avg_arr_delay\"].round(1)\n",
    ")\n",
    "\n",
    "fig.update_traces(textposition=\"outside\")\n",
    "fig.update_layout(\n",
    "    xaxis_title=\"Retard moyen (min)\",\n",
    "    yaxis_title=\"Compagnie\",\n",
    "    template=\"plotly_white\"\n",
    ")\n",
    "fig.show()"
   ]
  },
  {
   "cell_type": "markdown",
   "metadata": {
    "id": "TVcbCaQUfXa8"
   },
   "source": [
    "**Retard moyen par jour & mois**"
   ]
  },
  {
   "cell_type": "code",
   "execution_count": null,
   "metadata": {
    "id": "BL79JEjnPILM"
   },
   "outputs": [],
   "source": [
    "#  moy day/week\n",
    "avg_delay_dow = (\n",
    "    flights_df\n",
    "    .groupBy('DAY_OF_WEEK')\n",
    "    .agg(avg('ARRIVAL_DELAY').alias('avg_delay'))\n",
    "    .orderBy('DAY_OF_WEEK')\n",
    ")\n",
    "\n",
    "#  moy month\n",
    "avg_delay_month = (\n",
    "    flights_df\n",
    "    .groupBy('MONTH')\n",
    "    .agg(avg('ARRIVAL_DELAY').alias('avg_delay'))\n",
    "    .orderBy('MONTH')\n",
    ")\n",
    "\n",
    "#to pandas\n",
    "pdf_dow = avg_delay_dow.toPandas()\n",
    "pdf_month = avg_delay_month.toPandas()\n",
    "\n",
    "# Ajout label\n",
    "day_labels = {1: \"Lun\", 2: \"Mar\", 3: \"Mer\", 4: \"Jeu\", 5: \"Ven\", 6: \"Sam\", 7: \"Dim\"}\n",
    "pdf_dow['DAY_LABEL'] = pdf_dow['DAY_OF_WEEK'].astype(int).map(day_labels)\n",
    "\n",
    "month_labels = {\n",
    "    1: \"Jan\", 2: \"Fév\", 3: \"Mar\", 4: \"Avr\", 5: \"Mai\", 6: \"Juin\",\n",
    "    7: \"Juil\", 8: \"Août\", 9: \"Sept\", 10: \"Oct\", 11: \"Nov\", 12: \"Déc\"\n",
    "}\n",
    "pdf_month['MONTH_LABEL'] = pdf_month['MONTH'].astype(int).map(month_labels)\n",
    "\n",
    "# dataViz -delay/month\n",
    "fig_dow = px.bar(\n",
    "    pdf_dow,\n",
    "    x=\"DAY_LABEL\", y=\"avg_delay\",\n",
    "    color=\"avg_delay\", color_continuous_scale=\"RdBu_r\",\n",
    "    title=\"Retard moyen par jour de la semaine\",\n",
    "    labels={\"avg_delay\": \"Retard moyen (min)\", \"DAY_LABEL\": \"Jour\"},\n",
    "    text=pdf_dow[\"avg_delay\"].round(1)\n",
    ")\n",
    "fig_dow.update_traces(textposition=\"outside\")\n",
    "fig_dow.update_layout(\n",
    "    yaxis_title=\"Retard moyen (min)\",\n",
    "    xaxis_title=\"Jour\",\n",
    "    uniformtext_minsize=8,\n",
    "    template=\"plotly_white\"\n",
    ")\n",
    "fig_dow.show()\n",
    "\n",
    "#dataViz - delay/month\n",
    "fig_month = px.bar(\n",
    "    pdf_month,\n",
    "    x=\"MONTH_LABEL\", y=\"avg_delay\",\n",
    "    color=\"avg_delay\", color_continuous_scale=\"Blues\",\n",
    "    title=\"Retard moyen par mois\",\n",
    "    labels={\"avg_delay\": \"Retard moyen (min)\", \"MONTH_LABEL\": \"Mois\"},\n",
    "    text=pdf_month[\"avg_delay\"].round(1)\n",
    ")\n",
    "fig_month.update_traces(textposition=\"outside\")\n",
    "fig_month.update_layout(\n",
    "    yaxis_title=\"Retard moyen (min)\",\n",
    "    xaxis_title=\"Mois\",\n",
    "    uniformtext_minsize=8,\n",
    "    template=\"plotly_white\"\n",
    ")\n",
    "fig_month.show()"
   ]
  },
  {
   "cell_type": "markdown",
   "metadata": {
    "id": "i_IX1MUjV-xF"
   },
   "source": [
    "# **Corrélation** des variables de vol"
   ]
  },
  {
   "cell_type": "code",
   "execution_count": null,
   "metadata": {
    "id": "E4dwbSVHWBgl"
   },
   "outputs": [],
   "source": [
    "# 1. Sélection des colonnes numériques pertinentes\n",
    "numeric_cols = [\n",
    "    \"DEPARTURE_DELAY\", \"ARRIVAL_DELAY\", \"AIR_TIME\", \"DISTANCE\",\n",
    "    \"TAXI_OUT\", \"TAXI_IN\", \"ELAPSED_TIME\"\n",
    "]\n",
    "\n",
    "# 2. Conversion vers Pandas (avec limitation si nécessaire pour performance)\n",
    "flights_sample = flights_df.select(numeric_cols).dropna().limit(10000).toPandas()\n",
    "\n",
    "# 3. Matrice de corrélation\n",
    "correlation_matrix = flights_sample.corr(numeric_only=True)\n",
    "\n",
    "# 4. Affichage\n",
    "plt.figure(figsize=(10, 8))\n",
    "sns.heatmap(correlation_matrix, annot=True, cmap=\"coolwarm\", fmt=\".2f\")\n",
    "plt.title(\"Matrice de corrélation des variables de vol\")\n",
    "plt.show()"
   ]
  },
  {
   "cell_type": "markdown",
   "metadata": {
    "id": "htejabgv_6h1"
   },
   "source": [
    "# Training"
   ]
  },
  {
   "cell_type": "code",
   "execution_count": null,
   "metadata": {
    "id": "Tvau22K6_nlT"
   },
   "outputs": [],
   "source": [
    "! pip install tensorflow"
   ]
  },
  {
   "cell_type": "code",
   "execution_count": null,
   "metadata": {
    "id": "A-hQbOBiACZk"
   },
   "outputs": [],
   "source": [
    "numeric_feature_names = ['SCHEDULED_DEPARTURE', 'DEPARTURE_TIME', 'DISTANCE', 'SCHEDULED_ARRIVAL', 'ARRIVAL_TIME','AIRLINE', 'ORIGIN_AIRPORT', 'DESTINATION_AIRPORT']"
   ]
  },
  {
   "cell_type": "code",
   "execution_count": null,
   "metadata": {
    "id": "gKI5fDhCAsQa"
   },
   "outputs": [],
   "source": [
    "df_cleaned = flights_df.select(numeric_feature_names).dropna()\n",
    "\n",
    "MAX_SIZE = 10000\n",
    "\n",
    "df_limited = df_cleaned.limit(MAX_SIZE)\n",
    "X = df_limited.toPandas()\n",
    "y = flights_df.select(['DIVERTED', 'CANCELLED', 'ARRIVAL_DELAY']).dropna().limit(MAX_SIZE).toPandas()"
   ]
  },
  {
   "cell_type": "code",
   "execution_count": null,
   "metadata": {
    "id": "gEt_ITS_CZLd"
   },
   "outputs": [],
   "source": [
    "import tensorflow as tf\n",
    "from sklearn.model_selection import train_test_split\n",
    "from sklearn.preprocessing import StandardScaler"
   ]
  },
  {
   "cell_type": "code",
   "execution_count": null,
   "metadata": {
    "id": "pt5ATwpwCqQX"
   },
   "outputs": [],
   "source": [
    "X_train, X_test, y_train, y_test = train_test_split(X, y, test_size=0.2, random_state=42)\n"
   ]
  },
  {
   "cell_type": "code",
   "execution_count": null,
   "metadata": {
    "id": "daC1-snsDco2"
   },
   "outputs": [],
   "source": [
    "for col in ['AIRLINE', 'ORIGIN_AIRPORT', 'DESTINATION_AIRPORT']:\n",
    "    unique_values = X[col].unique()\n",
    "    mapping = {val: idx for idx, val in enumerate(unique_values)}\n",
    "    X_train[col] = X_train[col].map(mapping).fillna(-1).astype(int)\n",
    "    X_test[col] = X_test[col].map(mapping).fillna(-1).astype(int)\n",
    "\n",
    "y_train['ARRIVAL_DELAY'] = y_train['ARRIVAL_DELAY'].apply(lambda x: 1 if int(x) > 0 else 0)\n",
    "y_test['ARRIVAL_DELAY'] = y_test['ARRIVAL_DELAY'].apply(lambda x: 1 if int(x) > 0 else 0)\n",
    "\n",
    "y_train = y_train.to_numpy()\n",
    "y_test = y_test.to_numpy()\n",
    "\n",
    "X_train = scaler.fit_transform(X_train)\n",
    "X_test = scaler.transform(X_test)"
   ]
  },
  {
   "cell_type": "code",
   "execution_count": null,
   "metadata": {
    "id": "0hpNc_z1GBEc"
   },
   "outputs": [],
   "source": [
    "model = tf.keras.Sequential([\n",
    "    tf.keras.layers.InputLayer(input_shape=(X_train.shape[1],)),\n",
    "    tf.keras.layers.Dense(64, activation='relu'),\n",
    "    tf.keras.layers.Dense(32, activation='relu'),\n",
    "    tf.keras.layers.Dense(3, activation='sigmoid')\n",
    "])"
   ]
  },
  {
   "cell_type": "code",
   "execution_count": null,
   "metadata": {
    "id": "A6AZvym1GD6a"
   },
   "outputs": [],
   "source": [
    "model.compile(optimizer='adam', loss='binary_crossentropy', metrics=['accuracy'])"
   ]
  },
  {
   "cell_type": "markdown",
   "metadata": {
    "id": "Qpbng2W3Ic4y"
   },
   "source": []
  },
  {
   "cell_type": "code",
   "execution_count": null,
   "metadata": {
    "id": "C_dq7kX6GG1H"
   },
   "outputs": [],
   "source": [
    "model.fit(X_train, y_train, validation_data=(X_test, y_test), epochs=20, batch_size=32)\n"
   ]
  },
  {
   "cell_type": "code",
   "execution_count": null,
   "metadata": {
    "id": "8Z8F79t6GJob"
   },
   "outputs": [],
   "source": [
    "model.save('model.h5')\n",
    "from google.colab import files\n",
    "files.download('model.h5')"
   ]
  }
 ],
 "metadata": {
  "colab": {
   "collapsed_sections": [
    "htejabgv_6h1"
   ],
   "provenance": [],
   "toc_visible": true
  },
  "kernelspec": {
   "display_name": "Python 3 (ipykernel)",
   "language": "python",
   "name": "python3"
  },
  "language_info": {
   "codemirror_mode": {
    "name": "ipython",
    "version": 3
   },
   "file_extension": ".py",
   "mimetype": "text/x-python",
   "name": "python",
   "nbconvert_exporter": "python",
   "pygments_lexer": "ipython3",
   "version": "3.11.6"
  }
 },
 "nbformat": 4,
 "nbformat_minor": 4
}
